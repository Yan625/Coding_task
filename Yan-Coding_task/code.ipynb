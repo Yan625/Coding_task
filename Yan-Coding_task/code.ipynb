{
 "cells": [
  {
   "cell_type": "markdown",
   "metadata": {},
   "source": [
    "# Glicksberg Lab Coding Task--Yan Feng\n",
    "\n",
    "NOTES:\n",
    "    \n",
    "1. When doing the previous qustions, I didn't know what the problem I would have in the next question, so there maybe some   steps repeated. \n",
    "    \n",
    "2. When preprocessing the data, since I didn't know the meaning of some data like comments and data like>60, I just remove them. In the later work if I know better of the data, I would better preprocess the data.\n",
    "    \n",
    "3. When dealing with missing data, I fill the data with random numbers (which wouldn't change the distribution of the data) and mode\n",
    "\n",
    "4. for column with multiple features(>5), I use their count numbers to represent the feature. if all is dealed with by encoding, the dimension of the date will be too big.\n",
    "    \n",
    "5. I finish the first 4 questions using 3 hours. I followed the steps to finish the first qustion and found some problem after transform the format and I went back to change, which is pretty time consuming. if speed is a critria I want to make this cleared here."
   ]
  },
  {
   "cell_type": "code",
   "execution_count": 2,
   "metadata": {},
   "outputs": [],
   "source": [
    "import sqlite3\n",
    "import pandas as pd\n",
    "import numpy as np"
   ]
  },
  {
   "cell_type": "code",
   "execution_count": 3,
   "metadata": {},
   "outputs": [
    {
     "name": "stdout",
     "output_type": "stream",
     "text": [
      "Requirement already satisfied: csv-to-sqlite in c:\\programdata\\anaconda3\\lib\\site-packages (2.1.0)\n",
      "Requirement already satisfied: click in c:\\programdata\\anaconda3\\lib\\site-packages (from csv-to-sqlite) (7.0)\n",
      "Note: you may need to restart the kernel to use updated packages.\n"
     ]
    }
   ],
   "source": [
    "pip install csv-to-sqlite"
   ]
  },
  {
   "cell_type": "code",
   "execution_count": 4,
   "metadata": {},
   "outputs": [],
   "source": [
    "import csv_to_sqlite "
   ]
  },
  {
   "cell_type": "code",
   "execution_count": 5,
   "metadata": {},
   "outputs": [
    {
     "name": "stdout",
     "output_type": "stream",
     "text": [
      "Written 362073 rows into 2 tables in 1.740 seconds\n"
     ]
    }
   ],
   "source": [
    "options = csv_to_sqlite.CsvOptions(typing_style=\"full\", encoding=\"windows-1250\") \n",
    "input_files = [\"LabData.csv\", \"PatientData.csv\"] # pass in a list of CSV files\n",
    "csv_to_sqlite.write_csv(input_files, \"database.sqlite\", options)"
   ]
  },
  {
   "cell_type": "markdown",
   "metadata": {},
   "source": [
    "# Step 1a"
   ]
  },
  {
   "cell_type": "code",
   "execution_count": 6,
   "metadata": {},
   "outputs": [],
   "source": [
    "#extract data\n",
    "database=sqlite3.connect('database.sqlite')\n",
    "orderdata=pd.read_sql_query('select MRN,Lab_Code,Lab_Result_Time,Lab_Result from LabData order by MRN,Lab_Code,Lab_Result_Time asc',database)"
   ]
  },
  {
   "cell_type": "code",
   "execution_count": 7,
   "metadata": {},
   "outputs": [
    {
     "data": {
      "text/html": [
       "<div>\n",
       "<style scoped>\n",
       "    .dataframe tbody tr th:only-of-type {\n",
       "        vertical-align: middle;\n",
       "    }\n",
       "\n",
       "    .dataframe tbody tr th {\n",
       "        vertical-align: top;\n",
       "    }\n",
       "\n",
       "    .dataframe thead th {\n",
       "        text-align: right;\n",
       "    }\n",
       "</style>\n",
       "<table border=\"1\" class=\"dataframe\">\n",
       "  <thead>\n",
       "    <tr style=\"text-align: right;\">\n",
       "      <th></th>\n",
       "      <th>MRN</th>\n",
       "      <th>Lab_Code</th>\n",
       "      <th>Lab_Result_Time_convert</th>\n",
       "      <th>Lab_Result</th>\n",
       "    </tr>\n",
       "  </thead>\n",
       "  <tbody>\n",
       "    <tr>\n",
       "      <th>0</th>\n",
       "      <td>0</td>\n",
       "      <td>251</td>\n",
       "      <td>2018-04-28 08:00:00</td>\n",
       "      <td>81.5</td>\n",
       "    </tr>\n",
       "    <tr>\n",
       "      <th>1</th>\n",
       "      <td>0</td>\n",
       "      <td>251</td>\n",
       "      <td>2018-04-29 08:27:00</td>\n",
       "      <td>57.6</td>\n",
       "    </tr>\n",
       "  </tbody>\n",
       "</table>\n",
       "</div>"
      ],
      "text/plain": [
       "   MRN  Lab_Code Lab_Result_Time_convert Lab_Result\n",
       "0    0       251     2018-04-28 08:00:00       81.5\n",
       "1    0       251     2018-04-29 08:27:00       57.6"
      ]
     },
     "execution_count": 7,
     "metadata": {},
     "output_type": "execute_result"
    }
   ],
   "source": [
    "orderdata['Lab_Result_Time_convert'] = pd.to_datetime(orderdata['Lab_Result_Time'], format='%Y%m%d%H%M')\n",
    "df = orderdata[['MRN','Lab_Code','Lab_Result_Time_convert', 'Lab_Result']]\n",
    "df.head(2)"
   ]
  },
  {
   "cell_type": "code",
   "execution_count": 8,
   "metadata": {},
   "outputs": [],
   "source": [
    "MRN=df['MRN']\n",
    "MRN=np.array(MRN)\n",
    "ind0=[]\n",
    "for i in range(0,len(MRN)-1):\n",
    "    if MRN[i]!=MRN[i+1]:\n",
    "        ind0.append(i)\n",
    "        \n",
    "Lab_Code=df['Lab_Code']\n",
    "Lab_Code=np.array(Lab_Code)\n",
    "ind=[]\n",
    "for i in range(0,len(Lab_Code)-1):\n",
    "    if Lab_Code[i]!=Lab_Code[i+1]:\n",
    "        ind.append(i)\n",
    "        \n",
    "Result_Time=df['Lab_Result_Time_convert']\n",
    "Result_Time=np.array(Result_Time)\n",
    "\n",
    "Lab_Result=df['Lab_Result']\n",
    "Lab_Result=np.array(Lab_Result)"
   ]
  },
  {
   "cell_type": "code",
   "execution_count": 9,
   "metadata": {},
   "outputs": [
    {
     "data": {
      "text/plain": [
       "DatetimeIndex(['2018-04-28 07:00:00', '2018-04-28 19:00:00',\n",
       "               '2018-04-29 07:00:00', '2018-04-29 19:00:00',\n",
       "               '2018-04-30 07:00:00', '2018-04-30 19:00:00',\n",
       "               '2018-05-01 07:00:00', '2018-05-01 19:00:00',\n",
       "               '2018-05-02 07:00:00', '2018-05-02 19:00:00'],\n",
       "              dtype='datetime64[ns]', freq='12H')"
      ]
     },
     "execution_count": 9,
     "metadata": {},
     "output_type": "execute_result"
    }
   ],
   "source": [
    "#create time split point\n",
    "def change2str(date):\n",
    "    ts = pd.to_datetime(str(date)) \n",
    "    d = ts.strftime('%Y-%m-%d %H:%M:%S')\n",
    "    return d   \n",
    "\n",
    "import datetime\n",
    "timewindow=[]\n",
    "for i in range(len(ind)):\n",
    "    datetimeFormat = '%Y-%m-%d %H:%M:%S'\n",
    "    if i==0:\n",
    "        date1=change2str(Result_Time[0])\n",
    "        date2 = change2str(Result_Time[ind[i]])\n",
    "    if i!=0:\n",
    "        date1 = change2str(Result_Time[ind[i-1]+1])\n",
    "        date2 = change2str(Result_Time[ind[i]])\n",
    "    diff = datetime.datetime.strptime(date2, datetimeFormat)- datetime.datetime.strptime(date1, datetimeFormat)\n",
    "    periods=(diff.days*24+diff.seconds/3600)//12+2\n",
    "    dt=pd.date_range(end=Result_Time[ind[i]],periods=periods,freq='12h')\n",
    "    timewindow.append(dt)\n",
    "\n",
    "timewindow[0]"
   ]
  },
  {
   "cell_type": "code",
   "execution_count": 10,
   "metadata": {},
   "outputs": [
    {
     "data": {
      "text/plain": [
       "[[[array(['2018-04-28T07:00:00.000000000'], dtype='datetime64[ns]'),\n",
       "   array(['2018-04-28T19:00:00.000000000'], dtype='datetime64[ns]')],\n",
       "  []],\n",
       " [[array(['2018-04-28T19:00:00.000000000'], dtype='datetime64[ns]'),\n",
       "   array(['2018-04-29T07:00:00.000000000'], dtype='datetime64[ns]')],\n",
       "  []],\n",
       " [[array(['2018-04-29T07:00:00.000000000'], dtype='datetime64[ns]'),\n",
       "   array(['2018-04-29T19:00:00.000000000'], dtype='datetime64[ns]')],\n",
       "  []],\n",
       " [[array(['2018-04-29T19:00:00.000000000'], dtype='datetime64[ns]'),\n",
       "   array(['2018-04-30T07:00:00.000000000'], dtype='datetime64[ns]')],\n",
       "  []],\n",
       " [[array(['2018-04-30T07:00:00.000000000'], dtype='datetime64[ns]'),\n",
       "   array(['2018-04-30T19:00:00.000000000'], dtype='datetime64[ns]')],\n",
       "  []],\n",
       " [[array(['2018-04-30T19:00:00.000000000'], dtype='datetime64[ns]'),\n",
       "   array(['2018-05-01T07:00:00.000000000'], dtype='datetime64[ns]')],\n",
       "  []],\n",
       " [[array(['2018-05-01T07:00:00.000000000'], dtype='datetime64[ns]'),\n",
       "   array(['2018-05-01T19:00:00.000000000'], dtype='datetime64[ns]')],\n",
       "  []],\n",
       " [[array(['2018-05-01T19:00:00.000000000'], dtype='datetime64[ns]'),\n",
       "   array(['2018-05-02T07:00:00.000000000'], dtype='datetime64[ns]')],\n",
       "  []],\n",
       " [[array(['2018-05-02T07:00:00.000000000'], dtype='datetime64[ns]'),\n",
       "   array(['2018-05-02T19:00:00.000000000'], dtype='datetime64[ns]')],\n",
       "  []]]"
      ]
     },
     "execution_count": 10,
     "metadata": {},
     "output_type": "execute_result"
    }
   ],
   "source": [
    "#create time window\n",
    "d=[]\n",
    "for i in timewindow:\n",
    "    dt=pd.DataFrame(i)\n",
    "    dt=np.array(dt)\n",
    "    d.append(dt)\n",
    "#time_window+empty value\n",
    "a=[]\n",
    "for n in range(0,len(d)):\n",
    "    a.append([])\n",
    "    for j in range(1,len(d[n])):\n",
    "        a[n].append([[d[n][j-1],d[n][j]],[]])\n",
    "a[0]"
   ]
  },
  {
   "cell_type": "code",
   "execution_count": 11,
   "metadata": {},
   "outputs": [
    {
     "data": {
      "text/plain": [
       "[[numpy.datetime64('2018-04-28T08:00:00.000000000'), '81.5'],\n",
       " [numpy.datetime64('2018-04-29T08:27:00.000000000'), '57.6'],\n",
       " [numpy.datetime64('2018-04-30T09:50:00.000000000'), '49.4'],\n",
       " [numpy.datetime64('2018-05-01T09:25:00.000000000'), '49'],\n",
       " [numpy.datetime64('2018-05-02T10:30:00.000000000'), '37.8'],\n",
       " [numpy.datetime64('2018-05-02T19:00:00.000000000'), '30.5']]"
      ]
     },
     "execution_count": 11,
     "metadata": {},
     "output_type": "execute_result"
    }
   ],
   "source": [
    "#result_time\n",
    "b=[[] for n in range(0,len(ind))]\n",
    "for i in range(len(ind)):\n",
    "    if i==0:\n",
    "        for j in range(0,ind[0]+1):\n",
    "            b[0].append([Result_Time[j],Lab_Result[j]])\n",
    "    if i!=0:\n",
    "        for j in range(ind[i-1]+1,ind[i]):\n",
    "            b[i].append([Result_Time[j],Lab_Result[j]])\n",
    "\n",
    "b[0]"
   ]
  },
  {
   "cell_type": "code",
   "execution_count": 12,
   "metadata": {},
   "outputs": [
    {
     "data": {
      "text/plain": [
       "[[[array(['2018-04-28T07:00:00.000000000'], dtype='datetime64[ns]'),\n",
       "   array(['2018-04-28T19:00:00.000000000'], dtype='datetime64[ns]')],\n",
       "  ['81.5']],\n",
       " [[array(['2018-04-28T19:00:00.000000000'], dtype='datetime64[ns]'),\n",
       "   array(['2018-04-29T07:00:00.000000000'], dtype='datetime64[ns]')],\n",
       "  [0]],\n",
       " [[array(['2018-04-29T07:00:00.000000000'], dtype='datetime64[ns]'),\n",
       "   array(['2018-04-29T19:00:00.000000000'], dtype='datetime64[ns]')],\n",
       "  ['57.6']],\n",
       " [[array(['2018-04-29T19:00:00.000000000'], dtype='datetime64[ns]'),\n",
       "   array(['2018-04-30T07:00:00.000000000'], dtype='datetime64[ns]')],\n",
       "  [0]],\n",
       " [[array(['2018-04-30T07:00:00.000000000'], dtype='datetime64[ns]'),\n",
       "   array(['2018-04-30T19:00:00.000000000'], dtype='datetime64[ns]')],\n",
       "  ['49.4']],\n",
       " [[array(['2018-04-30T19:00:00.000000000'], dtype='datetime64[ns]'),\n",
       "   array(['2018-05-01T07:00:00.000000000'], dtype='datetime64[ns]')],\n",
       "  [0]],\n",
       " [[array(['2018-05-01T07:00:00.000000000'], dtype='datetime64[ns]'),\n",
       "   array(['2018-05-01T19:00:00.000000000'], dtype='datetime64[ns]')],\n",
       "  ['49']],\n",
       " [[array(['2018-05-01T19:00:00.000000000'], dtype='datetime64[ns]'),\n",
       "   array(['2018-05-02T07:00:00.000000000'], dtype='datetime64[ns]')],\n",
       "  [0]],\n",
       " [[array(['2018-05-02T07:00:00.000000000'], dtype='datetime64[ns]'),\n",
       "   array(['2018-05-02T19:00:00.000000000'], dtype='datetime64[ns]')],\n",
       "  ['37.8', '30.5']]]"
      ]
     },
     "execution_count": 12,
     "metadata": {},
     "output_type": "execute_result"
    }
   ],
   "source": [
    "for i in range(len(a)):\n",
    "    for j in range(len(a[i])):\n",
    "        for m in range(len(b[i])):\n",
    "            if b[i][m][0] > a[i][j][0][0] and b[i][m][0]<=a[i][j][0][1]:\n",
    "                a[i][j][1].append(b[i][m][1])\n",
    "        if a[i][j][1]==[]:\n",
    "                a[i][j][1].append(0)\n",
    "a[0]        "
   ]
  },
  {
   "cell_type": "code",
   "execution_count": 13,
   "metadata": {},
   "outputs": [],
   "source": [
    "count=df.groupby(['MRN'])['Lab_Code'].unique().reset_index()\n",
    "count=np.array(count['Lab_Code'])\n",
    "number=[]\n",
    "for i in count:\n",
    "    number.append(len(i))\n",
    "\n",
    "i=0\n",
    "x=[]\n",
    "sum=0\n",
    "for m in number:\n",
    "    step=m\n",
    "    b=a[i:i+step]\n",
    "    for j in range(len(b)):\n",
    "        sum+=len(b[j])\n",
    "    x.append(sum)\n",
    "    sum=0\n",
    "    i+=step"
   ]
  },
  {
   "cell_type": "code",
   "execution_count": 14,
   "metadata": {},
   "outputs": [],
   "source": [
    "mrn=[]\n",
    "p=0\n",
    "for i in x:\n",
    "    for j in range(i):\n",
    "        mrn.append(p)\n",
    "    p+=1\n",
    "    \n",
    "lab=[]\n",
    "time_point=[]\n",
    "start_time=[]\n",
    "end_time=[]\n",
    "value=[]\n",
    "\n",
    "for i in range(len(a)):\n",
    "        #lab.append(Lab_Code[i])\n",
    "    for j in range(len(a[i])):\n",
    "            \n",
    "        lab.append(Lab_Code[ind[i]])\n",
    "        time_point.append(j+1)\n",
    "        start_time.append(a[i][j][0][0])\n",
    "        end_time.append(a[i][j][0][1])\n",
    "        value.append(a[i][j][1])\n",
    "        "
   ]
  },
  {
   "cell_type": "code",
   "execution_count": 15,
   "metadata": {},
   "outputs": [],
   "source": [
    "def changedata(data):\n",
    "    time1=[]\n",
    "    for i in range(len(data)):\n",
    "        d=str(data[i])\n",
    "        time=d[2:6]+d[7:9]+d[10:12]+d[13:15]+d[16:18]\n",
    "        time1.append(int(time))\n",
    "    return time1"
   ]
  },
  {
   "cell_type": "code",
   "execution_count": 16,
   "metadata": {},
   "outputs": [],
   "source": [
    "mrn=pd.DataFrame(mrn)\n",
    "lab=pd.DataFrame(lab)\n",
    "time_point=pd.DataFrame(time_point)\n",
    "start_time=changedata(start_time)\n",
    "start_time=pd.DataFrame(start_time)\n",
    "end_time=changedata(end_time)\n",
    "end_time=pd.DataFrame(end_time)\n",
    "\n",
    "value=np.array(value)\n",
    "value=pd.DataFrame(value)"
   ]
  },
  {
   "cell_type": "code",
   "execution_count": 17,
   "metadata": {
    "scrolled": true
   },
   "outputs": [
    {
     "data": {
      "text/html": [
       "<div>\n",
       "<style scoped>\n",
       "    .dataframe tbody tr th:only-of-type {\n",
       "        vertical-align: middle;\n",
       "    }\n",
       "\n",
       "    .dataframe tbody tr th {\n",
       "        vertical-align: top;\n",
       "    }\n",
       "\n",
       "    .dataframe thead th {\n",
       "        text-align: right;\n",
       "    }\n",
       "</style>\n",
       "<table border=\"1\" class=\"dataframe\">\n",
       "  <thead>\n",
       "    <tr style=\"text-align: right;\">\n",
       "      <th></th>\n",
       "      <th>MRN</th>\n",
       "      <th>Lab_Code</th>\n",
       "      <th>Time_point</th>\n",
       "      <th>Time point start</th>\n",
       "      <th>Time point end</th>\n",
       "      <th>Value</th>\n",
       "    </tr>\n",
       "  </thead>\n",
       "  <tbody>\n",
       "    <tr>\n",
       "      <th>0</th>\n",
       "      <td>0</td>\n",
       "      <td>251</td>\n",
       "      <td>1</td>\n",
       "      <td>201804280700</td>\n",
       "      <td>201804281900</td>\n",
       "      <td>[81.5]</td>\n",
       "    </tr>\n",
       "    <tr>\n",
       "      <th>1</th>\n",
       "      <td>0</td>\n",
       "      <td>251</td>\n",
       "      <td>2</td>\n",
       "      <td>201804281900</td>\n",
       "      <td>201804290700</td>\n",
       "      <td>[0]</td>\n",
       "    </tr>\n",
       "  </tbody>\n",
       "</table>\n",
       "</div>"
      ],
      "text/plain": [
       "   MRN  Lab_Code  Time_point  Time point start  Time point end   Value\n",
       "0    0       251           1      201804280700    201804281900  [81.5]\n",
       "1    0       251           2      201804281900    201804290700     [0]"
      ]
     },
     "execution_count": 17,
     "metadata": {},
     "output_type": "execute_result"
    }
   ],
   "source": [
    "df1 = pd.concat([mrn,lab,time_point,start_time,end_time,value],axis=1)\n",
    "df1.columns =['MRN','Lab_Code','Time_point','Time point start','Time point end','Value']\n",
    "df1.head(2)"
   ]
  },
  {
   "cell_type": "code",
   "execution_count": 18,
   "metadata": {},
   "outputs": [],
   "source": [
    "sumvalue=0\n",
    "countvalue=0\n",
    "data=df1['Value']\n",
    "v=[]\n",
    "for i in range(len(data)):\n",
    "    try:\n",
    "        for j in data[i]:\n",
    "            m=float(j)\n",
    "            sumvalue+=m\n",
    "            countvalue+=1\n",
    "            mean=sumvalue/countvalue\n",
    "        v.append(round(mean,2))\n",
    "        sumvalue=0\n",
    "        countvalue=0        \n",
    "    except:\n",
    "        v.append(10000)\n"
   ]
  },
  {
   "cell_type": "code",
   "execution_count": 19,
   "metadata": {},
   "outputs": [
    {
     "data": {
      "text/html": [
       "<div>\n",
       "<style scoped>\n",
       "    .dataframe tbody tr th:only-of-type {\n",
       "        vertical-align: middle;\n",
       "    }\n",
       "\n",
       "    .dataframe tbody tr th {\n",
       "        vertical-align: top;\n",
       "    }\n",
       "\n",
       "    .dataframe thead th {\n",
       "        text-align: right;\n",
       "    }\n",
       "</style>\n",
       "<table border=\"1\" class=\"dataframe\">\n",
       "  <thead>\n",
       "    <tr style=\"text-align: right;\">\n",
       "      <th></th>\n",
       "      <th>MRN</th>\n",
       "      <th>Lab_Code</th>\n",
       "      <th>Time_point</th>\n",
       "      <th>Time point start</th>\n",
       "      <th>Time point end</th>\n",
       "      <th>Value</th>\n",
       "    </tr>\n",
       "  </thead>\n",
       "  <tbody>\n",
       "    <tr>\n",
       "      <th>0</th>\n",
       "      <td>0</td>\n",
       "      <td>251</td>\n",
       "      <td>1</td>\n",
       "      <td>201804280700</td>\n",
       "      <td>201804281900</td>\n",
       "      <td>81.50</td>\n",
       "    </tr>\n",
       "    <tr>\n",
       "      <th>1</th>\n",
       "      <td>0</td>\n",
       "      <td>251</td>\n",
       "      <td>2</td>\n",
       "      <td>201804281900</td>\n",
       "      <td>201804290700</td>\n",
       "      <td>0.00</td>\n",
       "    </tr>\n",
       "    <tr>\n",
       "      <th>2</th>\n",
       "      <td>0</td>\n",
       "      <td>251</td>\n",
       "      <td>3</td>\n",
       "      <td>201804290700</td>\n",
       "      <td>201804291900</td>\n",
       "      <td>57.60</td>\n",
       "    </tr>\n",
       "    <tr>\n",
       "      <th>3</th>\n",
       "      <td>0</td>\n",
       "      <td>251</td>\n",
       "      <td>4</td>\n",
       "      <td>201804291900</td>\n",
       "      <td>201804300700</td>\n",
       "      <td>0.00</td>\n",
       "    </tr>\n",
       "    <tr>\n",
       "      <th>4</th>\n",
       "      <td>0</td>\n",
       "      <td>251</td>\n",
       "      <td>5</td>\n",
       "      <td>201804300700</td>\n",
       "      <td>201804301900</td>\n",
       "      <td>49.40</td>\n",
       "    </tr>\n",
       "    <tr>\n",
       "      <th>5</th>\n",
       "      <td>0</td>\n",
       "      <td>251</td>\n",
       "      <td>6</td>\n",
       "      <td>201804301900</td>\n",
       "      <td>201805010700</td>\n",
       "      <td>0.00</td>\n",
       "    </tr>\n",
       "    <tr>\n",
       "      <th>6</th>\n",
       "      <td>0</td>\n",
       "      <td>251</td>\n",
       "      <td>7</td>\n",
       "      <td>201805010700</td>\n",
       "      <td>201805011900</td>\n",
       "      <td>49.00</td>\n",
       "    </tr>\n",
       "    <tr>\n",
       "      <th>7</th>\n",
       "      <td>0</td>\n",
       "      <td>251</td>\n",
       "      <td>8</td>\n",
       "      <td>201805011900</td>\n",
       "      <td>201805020700</td>\n",
       "      <td>0.00</td>\n",
       "    </tr>\n",
       "    <tr>\n",
       "      <th>8</th>\n",
       "      <td>0</td>\n",
       "      <td>251</td>\n",
       "      <td>9</td>\n",
       "      <td>201805020700</td>\n",
       "      <td>201805021900</td>\n",
       "      <td>34.15</td>\n",
       "    </tr>\n",
       "    <tr>\n",
       "      <th>9</th>\n",
       "      <td>0</td>\n",
       "      <td>1105</td>\n",
       "      <td>1</td>\n",
       "      <td>201804272015</td>\n",
       "      <td>201804280815</td>\n",
       "      <td>2.90</td>\n",
       "    </tr>\n",
       "  </tbody>\n",
       "</table>\n",
       "</div>"
      ],
      "text/plain": [
       "   MRN  Lab_Code  Time_point  Time point start  Time point end  Value\n",
       "0    0       251           1      201804280700    201804281900  81.50\n",
       "1    0       251           2      201804281900    201804290700   0.00\n",
       "2    0       251           3      201804290700    201804291900  57.60\n",
       "3    0       251           4      201804291900    201804300700   0.00\n",
       "4    0       251           5      201804300700    201804301900  49.40\n",
       "5    0       251           6      201804301900    201805010700   0.00\n",
       "6    0       251           7      201805010700    201805011900  49.00\n",
       "7    0       251           8      201805011900    201805020700   0.00\n",
       "8    0       251           9      201805020700    201805021900  34.15\n",
       "9    0      1105           1      201804272015    201804280815   2.90"
      ]
     },
     "execution_count": 19,
     "metadata": {},
     "output_type": "execute_result"
    }
   ],
   "source": [
    "value1=pd.DataFrame(v)\n",
    "df1['Value']=value1\n",
    "df11=df1.drop(df1[df1.Value==10000].index)\n",
    "df11.head(10)"
   ]
  },
  {
   "cell_type": "markdown",
   "metadata": {},
   "source": [
    "# Step 1b"
   ]
  },
  {
   "cell_type": "code",
   "execution_count": 20,
   "metadata": {
    "scrolled": true
   },
   "outputs": [
    {
     "data": {
      "text/html": [
       "<div>\n",
       "<style scoped>\n",
       "    .dataframe tbody tr th:only-of-type {\n",
       "        vertical-align: middle;\n",
       "    }\n",
       "\n",
       "    .dataframe tbody tr th {\n",
       "        vertical-align: top;\n",
       "    }\n",
       "\n",
       "    .dataframe thead th {\n",
       "        text-align: right;\n",
       "    }\n",
       "</style>\n",
       "<table border=\"1\" class=\"dataframe\">\n",
       "  <thead>\n",
       "    <tr style=\"text-align: right;\">\n",
       "      <th></th>\n",
       "      <th>MRN</th>\n",
       "      <th>Lab_Code</th>\n",
       "      <th>Value</th>\n",
       "    </tr>\n",
       "  </thead>\n",
       "  <tbody>\n",
       "    <tr>\n",
       "      <th>0</th>\n",
       "      <td>0</td>\n",
       "      <td>251</td>\n",
       "      <td>[81.5, 0.0, 57.6, 0.0, 49.4, 0.0, 49.0, 0.0, 3...</td>\n",
       "    </tr>\n",
       "    <tr>\n",
       "      <th>1</th>\n",
       "      <td>0</td>\n",
       "      <td>1105</td>\n",
       "      <td>[2.9, 0.0, 2.8, 0.0, 0.0, 3.0, 3.0, 0.0, 0.0, ...</td>\n",
       "    </tr>\n",
       "    <tr>\n",
       "      <th>2</th>\n",
       "      <td>0</td>\n",
       "      <td>1111</td>\n",
       "      <td>[0.6, 0.3, 0.0, 0.3, 0.0, 0.1, 0.0, 0.15, 0.0,...</td>\n",
       "    </tr>\n",
       "    <tr>\n",
       "      <th>3</th>\n",
       "      <td>0</td>\n",
       "      <td>1112</td>\n",
       "      <td>[0.3, 0.0, 0.4, 0.0, 0.0, 0.3, 0.3, 0.0, 0.0, ...</td>\n",
       "    </tr>\n",
       "    <tr>\n",
       "      <th>4</th>\n",
       "      <td>0</td>\n",
       "      <td>1116</td>\n",
       "      <td>[8.2, 0.0, 8.4, 0.0, 0.0, 8.45, 8.5, 8.5, 0.0,...</td>\n",
       "    </tr>\n",
       "    <tr>\n",
       "      <th>...</th>\n",
       "      <td>...</td>\n",
       "      <td>...</td>\n",
       "      <td>...</td>\n",
       "    </tr>\n",
       "    <tr>\n",
       "      <th>2995</th>\n",
       "      <td>56</td>\n",
       "      <td>2604</td>\n",
       "      <td>[27.8, 28.5, 0.0, 28.6, 0.0, 0.0, 28.6, 25.9, ...</td>\n",
       "    </tr>\n",
       "    <tr>\n",
       "      <th>2996</th>\n",
       "      <td>56</td>\n",
       "      <td>2605</td>\n",
       "      <td>[101.3, 102.2, 0.0, 102.8, 0.0, 0.0, 101.1, 10...</td>\n",
       "    </tr>\n",
       "    <tr>\n",
       "      <th>2997</th>\n",
       "      <td>56</td>\n",
       "      <td>2606</td>\n",
       "      <td>[34.5, 34.9, 0.0, 35.2, 0.0, 0.0, 34.4, 35.0, ...</td>\n",
       "    </tr>\n",
       "    <tr>\n",
       "      <th>2998</th>\n",
       "      <td>56</td>\n",
       "      <td>2607</td>\n",
       "      <td>[34.1, 34.1, 0.0, 34.2, 0.0, 0.0, 34.0, 34.6, ...</td>\n",
       "    </tr>\n",
       "    <tr>\n",
       "      <th>2999</th>\n",
       "      <td>56</td>\n",
       "      <td>2608</td>\n",
       "      <td>[16.0, 16.0, 0.0, 15.0, 0.0, 0.0, 15.4, 15.4, ...</td>\n",
       "    </tr>\n",
       "  </tbody>\n",
       "</table>\n",
       "<p>3000 rows × 3 columns</p>\n",
       "</div>"
      ],
      "text/plain": [
       "      MRN  Lab_Code                                              Value\n",
       "0       0       251  [81.5, 0.0, 57.6, 0.0, 49.4, 0.0, 49.0, 0.0, 3...\n",
       "1       0      1105  [2.9, 0.0, 2.8, 0.0, 0.0, 3.0, 3.0, 0.0, 0.0, ...\n",
       "2       0      1111  [0.6, 0.3, 0.0, 0.3, 0.0, 0.1, 0.0, 0.15, 0.0,...\n",
       "3       0      1112  [0.3, 0.0, 0.4, 0.0, 0.0, 0.3, 0.3, 0.0, 0.0, ...\n",
       "4       0      1116  [8.2, 0.0, 8.4, 0.0, 0.0, 8.45, 8.5, 8.5, 0.0,...\n",
       "...   ...       ...                                                ...\n",
       "2995   56      2604  [27.8, 28.5, 0.0, 28.6, 0.0, 0.0, 28.6, 25.9, ...\n",
       "2996   56      2605  [101.3, 102.2, 0.0, 102.8, 0.0, 0.0, 101.1, 10...\n",
       "2997   56      2606  [34.5, 34.9, 0.0, 35.2, 0.0, 0.0, 34.4, 35.0, ...\n",
       "2998   56      2607  [34.1, 34.1, 0.0, 34.2, 0.0, 0.0, 34.0, 34.6, ...\n",
       "2999   56      2608  [16.0, 16.0, 0.0, 15.0, 0.0, 0.0, 15.4, 15.4, ...\n",
       "\n",
       "[3000 rows x 3 columns]"
      ]
     },
     "execution_count": 20,
     "metadata": {},
     "output_type": "execute_result"
    }
   ],
   "source": [
    "def agg(data):\n",
    "    li=[]\n",
    "    for i in data:\n",
    "        li.append(i)\n",
    "    return li\n",
    "labdata=df1.groupby(['MRN','Lab_Code'])['Value'].apply(agg).reset_index()\n",
    "labdata.head(3000)"
   ]
  },
  {
   "cell_type": "markdown",
   "metadata": {},
   "source": [
    "# Step 1c"
   ]
  },
  {
   "cell_type": "code",
   "execution_count": 21,
   "metadata": {},
   "outputs": [
    {
     "data": {
      "text/html": [
       "<div>\n",
       "<style scoped>\n",
       "    .dataframe tbody tr th:only-of-type {\n",
       "        vertical-align: middle;\n",
       "    }\n",
       "\n",
       "    .dataframe tbody tr th {\n",
       "        vertical-align: top;\n",
       "    }\n",
       "\n",
       "    .dataframe thead th {\n",
       "        text-align: right;\n",
       "    }\n",
       "</style>\n",
       "<table border=\"1\" class=\"dataframe\">\n",
       "  <thead>\n",
       "    <tr style=\"text-align: right;\">\n",
       "      <th></th>\n",
       "      <th>MRN</th>\n",
       "      <th>Lab_Code</th>\n",
       "      <th>Lab_Result_Time</th>\n",
       "      <th>Lab_Result</th>\n",
       "      <th>Gender</th>\n",
       "      <th>Race</th>\n",
       "      <th>Marital_Status</th>\n",
       "      <th>Religion</th>\n",
       "      <th>Ethnic_Group</th>\n",
       "      <th>label</th>\n",
       "    </tr>\n",
       "  </thead>\n",
       "  <tbody>\n",
       "    <tr>\n",
       "      <th>0</th>\n",
       "      <td>0</td>\n",
       "      <td>251</td>\n",
       "      <td>201804280800</td>\n",
       "      <td>81.5</td>\n",
       "      <td>M</td>\n",
       "      <td>O</td>\n",
       "      <td>S</td>\n",
       "      <td>CAT</td>\n",
       "      <td>24</td>\n",
       "      <td>0</td>\n",
       "    </tr>\n",
       "    <tr>\n",
       "      <th>1</th>\n",
       "      <td>0</td>\n",
       "      <td>251</td>\n",
       "      <td>201804290827</td>\n",
       "      <td>57.6</td>\n",
       "      <td>M</td>\n",
       "      <td>O</td>\n",
       "      <td>S</td>\n",
       "      <td>CAT</td>\n",
       "      <td>24</td>\n",
       "      <td>0</td>\n",
       "    </tr>\n",
       "    <tr>\n",
       "      <th>2</th>\n",
       "      <td>0</td>\n",
       "      <td>251</td>\n",
       "      <td>201804300950</td>\n",
       "      <td>49.4</td>\n",
       "      <td>M</td>\n",
       "      <td>O</td>\n",
       "      <td>S</td>\n",
       "      <td>CAT</td>\n",
       "      <td>24</td>\n",
       "      <td>0</td>\n",
       "    </tr>\n",
       "    <tr>\n",
       "      <th>3</th>\n",
       "      <td>0</td>\n",
       "      <td>251</td>\n",
       "      <td>201805010925</td>\n",
       "      <td>49</td>\n",
       "      <td>M</td>\n",
       "      <td>O</td>\n",
       "      <td>S</td>\n",
       "      <td>CAT</td>\n",
       "      <td>24</td>\n",
       "      <td>0</td>\n",
       "    </tr>\n",
       "    <tr>\n",
       "      <th>4</th>\n",
       "      <td>0</td>\n",
       "      <td>251</td>\n",
       "      <td>201805021030</td>\n",
       "      <td>37.8</td>\n",
       "      <td>M</td>\n",
       "      <td>O</td>\n",
       "      <td>S</td>\n",
       "      <td>CAT</td>\n",
       "      <td>24</td>\n",
       "      <td>0</td>\n",
       "    </tr>\n",
       "  </tbody>\n",
       "</table>\n",
       "</div>"
      ],
      "text/plain": [
       "   MRN  Lab_Code  Lab_Result_Time Lab_Result Gender Race Marital_Status  \\\n",
       "0    0       251     201804280800       81.5      M    O              S   \n",
       "1    0       251     201804290827       57.6      M    O              S   \n",
       "2    0       251     201804300950       49.4      M    O              S   \n",
       "3    0       251     201805010925         49      M    O              S   \n",
       "4    0       251     201805021030       37.8      M    O              S   \n",
       "\n",
       "  Religion Ethnic_Group  label  \n",
       "0      CAT           24      0  \n",
       "1      CAT           24      0  \n",
       "2      CAT           24      0  \n",
       "3      CAT           24      0  \n",
       "4      CAT           24      0  "
      ]
     },
     "execution_count": 21,
     "metadata": {},
     "output_type": "execute_result"
    }
   ],
   "source": [
    "patientdata=pd.read_sql_query('select*from PatientData',database)\n",
    "merge2table=pd.merge(left=orderdata,right=patientdata,left_on='MRN',right_on='MRN')\n",
    "merge2table=merge2table.drop(['Lab_Result_Time_convert'],axis=1)\n",
    "merge2table['Lab_Result_Time']=pd.to_numeric(merge2table['Lab_Result_Time'])\n",
    "merge2table.head()"
   ]
  },
  {
   "cell_type": "code",
   "execution_count": 22,
   "metadata": {},
   "outputs": [
    {
     "name": "stdout",
     "output_type": "stream",
     "text": [
      "Written 361073 rows into 1 tables in 2.058 seconds\n"
     ]
    }
   ],
   "source": [
    "merge2table.to_csv('MD.csv', index=False)\n",
    "input_files = [\"MD.csv\"] # pass in a list of CSV files\n",
    "csv_to_sqlite.write_csv(input_files, \"database.sqlite\", options)"
   ]
  },
  {
   "cell_type": "code",
   "execution_count": 23,
   "metadata": {},
   "outputs": [
    {
     "data": {
      "text/html": [
       "<div>\n",
       "<style scoped>\n",
       "    .dataframe tbody tr th:only-of-type {\n",
       "        vertical-align: middle;\n",
       "    }\n",
       "\n",
       "    .dataframe tbody tr th {\n",
       "        vertical-align: top;\n",
       "    }\n",
       "\n",
       "    .dataframe thead th {\n",
       "        text-align: right;\n",
       "    }\n",
       "</style>\n",
       "<table border=\"1\" class=\"dataframe\">\n",
       "  <thead>\n",
       "    <tr style=\"text-align: right;\">\n",
       "      <th></th>\n",
       "      <th>Lab_Result</th>\n",
       "      <th>Gender</th>\n",
       "      <th>Race</th>\n",
       "      <th>Marital_Status</th>\n",
       "      <th>Religion</th>\n",
       "      <th>Ethnic_Group</th>\n",
       "    </tr>\n",
       "  </thead>\n",
       "  <tbody>\n",
       "    <tr>\n",
       "      <th>0</th>\n",
       "      <td>49.4</td>\n",
       "      <td>M</td>\n",
       "      <td>O</td>\n",
       "      <td>S</td>\n",
       "      <td>CAT</td>\n",
       "      <td>24</td>\n",
       "    </tr>\n",
       "    <tr>\n",
       "      <th>1</th>\n",
       "      <td>49</td>\n",
       "      <td>M</td>\n",
       "      <td>O</td>\n",
       "      <td>S</td>\n",
       "      <td>CAT</td>\n",
       "      <td>24</td>\n",
       "    </tr>\n",
       "    <tr>\n",
       "      <th>2</th>\n",
       "      <td>37.8</td>\n",
       "      <td>M</td>\n",
       "      <td>O</td>\n",
       "      <td>S</td>\n",
       "      <td>CAT</td>\n",
       "      <td>24</td>\n",
       "    </tr>\n",
       "    <tr>\n",
       "      <th>3</th>\n",
       "      <td>30.5</td>\n",
       "      <td>M</td>\n",
       "      <td>O</td>\n",
       "      <td>S</td>\n",
       "      <td>CAT</td>\n",
       "      <td>24</td>\n",
       "    </tr>\n",
       "  </tbody>\n",
       "</table>\n",
       "</div>"
      ],
      "text/plain": [
       "  Lab_Result Gender Race Marital_Status Religion Ethnic_Group\n",
       "0       49.4      M    O              S      CAT           24\n",
       "1         49      M    O              S      CAT           24\n",
       "2       37.8      M    O              S      CAT           24\n",
       "3       30.5      M    O              S      CAT           24"
      ]
     },
     "execution_count": 23,
     "metadata": {},
     "output_type": "execute_result"
    }
   ],
   "source": [
    "data=pd.read_sql_query('select Lab_Result,Gender,Race,Marital_Status,Religion,Ethnic_Group from MD \\\n",
    "                       where Lab_Code=251 and MRN=0 and Lab_Result_Time>201804300000' ,database)\n",
    "data"
   ]
  },
  {
   "cell_type": "code",
   "execution_count": 24,
   "metadata": {},
   "outputs": [],
   "source": [
    "merge2table.to_csv('0_251_value.csv', index=False)"
   ]
  },
  {
   "cell_type": "markdown",
   "metadata": {},
   "source": [
    "# Step 2"
   ]
  },
  {
   "cell_type": "code",
   "execution_count": 25,
   "metadata": {},
   "outputs": [
    {
     "name": "stdout",
     "output_type": "stream",
     "text": [
      "Written 40300 rows into 1 tables in 0.232 seconds\n"
     ]
    }
   ],
   "source": [
    "#distribution plot of lab:\n",
    "labdata.to_csv('labtrans.csv', index=False)\n",
    "input_files = [\"labtrans.csv\"] # pass in a list of CSV files\n",
    "csv_to_sqlite.write_csv(input_files, \"database.sqlite\", options)\n",
    "data1=pd.read_sql_query('select Value from labtrans where Lab_Code=251' ,database)"
   ]
  },
  {
   "cell_type": "code",
   "execution_count": 26,
   "metadata": {},
   "outputs": [
    {
     "data": {
      "image/png": "[encoded data removed]",
      "text/plain": [
       "<Figure size 432x288 with 1 Axes>"
      ]
     },
     "metadata": {
      "needs_background": "light"
     },
     "output_type": "display_data"
    }
   ],
   "source": [
    "valuearray=np.array(data1)\n",
    "valuelen=[]\n",
    "for i in valuearray:\n",
    "    for j in i:\n",
    "        valuelen.append(len(j))\n",
    "value_251=pd.DataFrame(valuelen)\n",
    "\n",
    "import seaborn as sns\n",
    "x=value_251[0].values\n",
    "plot1=sns.distplot(x,color='green').set_title(\"distribution plot of lab code 251\")\n",
    "plot1=plot1.get_figure()\n",
    "plot1.savefig('plot1.png')"
   ]
  },
  {
   "cell_type": "code",
   "execution_count": 27,
   "metadata": {},
   "outputs": [
    {
     "name": "stdout",
     "output_type": "stream",
     "text": [
      "Written 361073 rows into 1 tables in 1.718 seconds\n"
     ]
    }
   ],
   "source": [
    "#for MRN0,create a line chart:y-->lab value,x-->time\n",
    "orderdata.to_csv('orderdata.csv', index=False)\n",
    "input_files = [\"orderdata.csv\"] # pass in a list of CSV files\n",
    "csv_to_sqlite.write_csv(input_files, \"database.sqlite\", options)\n",
    "data2=pd.read_sql_query('select Lab_Result_Time_convert, Lab_Result from orderdata group by Lab_Result_Time_convert having MRN=0' ,database)"
   ]
  },
  {
   "cell_type": "code",
   "execution_count": 28,
   "metadata": {},
   "outputs": [],
   "source": [
    "data=data2['Lab_Result']\n",
    "v1=[]\n",
    "for i in range(len(data)):\n",
    "    try:\n",
    "        m=float(data[i])\n",
    "        v1.append(m)     \n",
    "    except:\n",
    "        v1.append(10000)\n",
    "value2=pd.DataFrame(v1)\n",
    "data2['Lab_Result']=value2\n",
    "data2=data2.drop(data2[data2.Lab_Result==10000].index)"
   ]
  },
  {
   "cell_type": "code",
   "execution_count": 29,
   "metadata": {},
   "outputs": [
    {
     "data": {
      "image/png": "[encoded data removed]",
      "text/plain": [
       "<Figure size 2880x1080 with 1 Axes>"
      ]
     },
     "metadata": {
      "needs_background": "light"
     },
     "output_type": "display_data"
    }
   ],
   "source": [
    "import matplotlib.pyplot as plt\n",
    "fig=plt.figure(figsize=(40,15))\n",
    "x=data2['Lab_Result_Time_convert']\n",
    "y=data2['Lab_Result']\n",
    "plt.xticks(rotation=90)\n",
    "plt.title('Value with time series')\n",
    "plt.xlabel('Time')\n",
    "plt.ylabel('Value')\n",
    "plt.plot(x,y,color='g',linewidth=3)\n",
    "plt.show()\n",
    "fig.savefig('plot2.png')"
   ]
  },
  {
   "cell_type": "code",
   "execution_count": 30,
   "metadata": {},
   "outputs": [
    {
     "name": "stdout",
     "output_type": "stream",
     "text": [
      "Written 562351 rows into 1 tables in 3.919 seconds\n"
     ]
    }
   ],
   "source": [
    "#aggregated value\n",
    "df1.to_csv('df11.csv', index=False)\n",
    "input_files = [\"df11.csv\"] # pass in a list of CSV files\n",
    "csv_to_sqlite.write_csv(input_files, \"database.sqlite\", options)\n",
    "data3=pd.read_sql_query('select Value from df11 where Lab_Code=251 and MRN=0' ,database)"
   ]
  },
  {
   "cell_type": "code",
   "execution_count": 31,
   "metadata": {},
   "outputs": [
    {
     "data": {
      "image/png": "[encoded data removed]",
      "text/plain": [
       "<Figure size 504x288 with 1 Axes>"
      ]
     },
     "metadata": {
      "needs_background": "light"
     },
     "output_type": "display_data"
    }
   ],
   "source": [
    "fig=plt.figure(figsize=(7,4))\n",
    "x=data3['Value']\n",
    "plt.title('aggregated value of lab_code251 for MRN0')\n",
    "plt.xlabel('Time point')\n",
    "plt.ylabel('aggregated value')\n",
    "plt.plot(x,marker='o',color='g',linewidth=1.5)\n",
    "plt.show()\n",
    "fig.savefig('plot3.png')"
   ]
  },
  {
   "cell_type": "markdown",
   "metadata": {},
   "source": [
    "# Step 3"
   ]
  },
  {
   "cell_type": "code",
   "execution_count": 32,
   "metadata": {},
   "outputs": [
    {
     "data": {
      "text/html": [
       "<div>\n",
       "<style scoped>\n",
       "    .dataframe tbody tr th:only-of-type {\n",
       "        vertical-align: middle;\n",
       "    }\n",
       "\n",
       "    .dataframe tbody tr th {\n",
       "        vertical-align: top;\n",
       "    }\n",
       "\n",
       "    .dataframe thead th {\n",
       "        text-align: right;\n",
       "    }\n",
       "</style>\n",
       "<table border=\"1\" class=\"dataframe\">\n",
       "  <thead>\n",
       "    <tr style=\"text-align: right;\">\n",
       "      <th></th>\n",
       "      <th>MRN</th>\n",
       "      <th>Lab_Code</th>\n",
       "      <th>Lab_Result_Time</th>\n",
       "      <th>Lab_Result</th>\n",
       "      <th>Gender</th>\n",
       "      <th>Race</th>\n",
       "      <th>Marital_Status</th>\n",
       "      <th>Religion</th>\n",
       "      <th>Ethnic_Group</th>\n",
       "      <th>label</th>\n",
       "    </tr>\n",
       "  </thead>\n",
       "  <tbody>\n",
       "    <tr>\n",
       "      <th>0</th>\n",
       "      <td>0</td>\n",
       "      <td>251</td>\n",
       "      <td>201804280800</td>\n",
       "      <td>81.5</td>\n",
       "      <td>M</td>\n",
       "      <td>O</td>\n",
       "      <td>S</td>\n",
       "      <td>CAT</td>\n",
       "      <td>24</td>\n",
       "      <td>0</td>\n",
       "    </tr>\n",
       "    <tr>\n",
       "      <th>1</th>\n",
       "      <td>0</td>\n",
       "      <td>251</td>\n",
       "      <td>201804290827</td>\n",
       "      <td>57.6</td>\n",
       "      <td>M</td>\n",
       "      <td>O</td>\n",
       "      <td>S</td>\n",
       "      <td>CAT</td>\n",
       "      <td>24</td>\n",
       "      <td>0</td>\n",
       "    </tr>\n",
       "  </tbody>\n",
       "</table>\n",
       "</div>"
      ],
      "text/plain": [
       "   MRN  Lab_Code  Lab_Result_Time Lab_Result Gender Race Marital_Status  \\\n",
       "0    0       251     201804280800       81.5      M    O              S   \n",
       "1    0       251     201804290827       57.6      M    O              S   \n",
       "\n",
       "  Religion Ethnic_Group  label  \n",
       "0      CAT           24      0  \n",
       "1      CAT           24      0  "
      ]
     },
     "execution_count": 32,
     "metadata": {},
     "output_type": "execute_result"
    }
   ],
   "source": [
    "#dataset we use\n",
    "merge2table.head(2)"
   ]
  },
  {
   "cell_type": "code",
   "execution_count": 33,
   "metadata": {},
   "outputs": [
    {
     "data": {
      "text/plain": [
       "F    217823\n",
       "M    143250\n",
       "Name: Gender, dtype: int64"
      ]
     },
     "execution_count": 33,
     "metadata": {},
     "output_type": "execute_result"
    }
   ],
   "source": [
    "merge2table['Gender'].value_counts()"
   ]
  },
  {
   "cell_type": "code",
   "execution_count": 34,
   "metadata": {},
   "outputs": [
    {
     "data": {
      "text/html": [
       "<div>\n",
       "<style scoped>\n",
       "    .dataframe tbody tr th:only-of-type {\n",
       "        vertical-align: middle;\n",
       "    }\n",
       "\n",
       "    .dataframe tbody tr th {\n",
       "        vertical-align: top;\n",
       "    }\n",
       "\n",
       "    .dataframe thead th {\n",
       "        text-align: right;\n",
       "    }\n",
       "</style>\n",
       "<table border=\"1\" class=\"dataframe\">\n",
       "  <thead>\n",
       "    <tr style=\"text-align: right;\">\n",
       "      <th></th>\n",
       "      <th>MRN</th>\n",
       "      <th>Gender_F</th>\n",
       "      <th>Gender_M</th>\n",
       "    </tr>\n",
       "  </thead>\n",
       "  <tbody>\n",
       "    <tr>\n",
       "      <th>0</th>\n",
       "      <td>0</td>\n",
       "      <td>1</td>\n",
       "      <td>0</td>\n",
       "    </tr>\n",
       "    <tr>\n",
       "      <th>1</th>\n",
       "      <td>0</td>\n",
       "      <td>1</td>\n",
       "      <td>0</td>\n",
       "    </tr>\n",
       "    <tr>\n",
       "      <th>2</th>\n",
       "      <td>0</td>\n",
       "      <td>1</td>\n",
       "      <td>0</td>\n",
       "    </tr>\n",
       "    <tr>\n",
       "      <th>3</th>\n",
       "      <td>0</td>\n",
       "      <td>1</td>\n",
       "      <td>0</td>\n",
       "    </tr>\n",
       "    <tr>\n",
       "      <th>4</th>\n",
       "      <td>0</td>\n",
       "      <td>1</td>\n",
       "      <td>0</td>\n",
       "    </tr>\n",
       "  </tbody>\n",
       "</table>\n",
       "</div>"
      ],
      "text/plain": [
       "   MRN  Gender_F  Gender_M\n",
       "0    0         1         0\n",
       "1    0         1         0\n",
       "2    0         1         0\n",
       "3    0         1         0\n",
       "4    0         1         0"
      ]
     },
     "execution_count": 34,
     "metadata": {},
     "output_type": "execute_result"
    }
   ],
   "source": [
    "data4=merge2table[['MRN','Gender']]\n",
    "data5=pd.get_dummies(data4['Gender'])\n",
    "dataout=pd.concat([data4['MRN'],data5['M'],data5['F']],axis=1)\n",
    "dataout.columns=['MRN','Gender_F','Gender_M']\n",
    "dataout.to_csv('gender_encoding.csv', index=False)\n",
    "dataout.head()"
   ]
  },
  {
   "cell_type": "markdown",
   "metadata": {},
   "source": [
    "# Step 4"
   ]
  },
  {
   "cell_type": "code",
   "execution_count": 35,
   "metadata": {},
   "outputs": [],
   "source": [
    "#preprocess the data-->replce '' as NaN\n",
    "def preprocess(data):\n",
    "    d=np.array(data)\n",
    "    p=[]\n",
    "    for i in d:\n",
    "        if i=='':\n",
    "            p.append(np.nan)\n",
    "        else:\n",
    "            p.append(i)\n",
    "    completedata=pd.DataFrame(p)\n",
    "    return completedata"
   ]
  },
  {
   "cell_type": "code",
   "execution_count": 36,
   "metadata": {},
   "outputs": [],
   "source": [
    "merge2table['Race']=preprocess(merge2table['Race'])\n",
    "merge2table['Marital_Status']=preprocess(merge2table['Marital_Status'])\n",
    "merge2table['Religion']=preprocess(merge2table['Religion'])\n",
    "merge2table['Ethnic_Group']=preprocess(merge2table['Ethnic_Group'])"
   ]
  },
  {
   "cell_type": "code",
   "execution_count": 37,
   "metadata": {},
   "outputs": [],
   "source": [
    "#replace the missing value with random number(will not change the distribution of data)\n",
    "def replace_nan(data,variable):\n",
    "    data[variable+'_random']=data[variable]\n",
    "    random_sample=data[variable].dropna().sample(data[variable].isnull().sum(),random_state=0)\n",
    "    random_sample.index=data[data[variable].isnull()].index\n",
    "    data.loc[data[variable].isnull(),variable+'_random']=random_sample"
   ]
  },
  {
   "cell_type": "code",
   "execution_count": 38,
   "metadata": {},
   "outputs": [],
   "source": [
    "replace_nan(merge2table,'Race')\n",
    "replace_nan(merge2table,'Marital_Status')\n",
    "replace_nan(merge2table,'Religion')\n",
    "replace_nan(merge2table,'Ethnic_Group')"
   ]
  },
  {
   "cell_type": "code",
   "execution_count": 39,
   "metadata": {},
   "outputs": [],
   "source": [
    "x=merge2table[['Lab_Result','Gender','Race_random','Marital_Status_random','Religion_random','Ethnic_Group_random','label']]"
   ]
  },
  {
   "cell_type": "code",
   "execution_count": 40,
   "metadata": {},
   "outputs": [],
   "source": [
    "def countmap(data):\n",
    "    countmap=data.value_counts().to_dict()\n",
    "    data=data.map(countmap)\n",
    "    return data   "
   ]
  },
  {
   "cell_type": "code",
   "execution_count": 41,
   "metadata": {},
   "outputs": [
    {
     "name": "stderr",
     "output_type": "stream",
     "text": [
      "C:\\Users\\yifan\\AppData\\Roaming\\Python\\Python37\\site-packages\\ipykernel_launcher.py:1: SettingWithCopyWarning: \n",
      "A value is trying to be set on a copy of a slice from a DataFrame.\n",
      "Try using .loc[row_indexer,col_indexer] = value instead\n",
      "\n",
      "See the caveats in the documentation: https://pandas.pydata.org/pandas-docs/stable/user_guide/indexing.html#returning-a-view-versus-a-copy\n",
      "  \"\"\"Entry point for launching an IPython kernel.\n",
      "C:\\Users\\yifan\\AppData\\Roaming\\Python\\Python37\\site-packages\\ipykernel_launcher.py:2: SettingWithCopyWarning: \n",
      "A value is trying to be set on a copy of a slice from a DataFrame.\n",
      "Try using .loc[row_indexer,col_indexer] = value instead\n",
      "\n",
      "See the caveats in the documentation: https://pandas.pydata.org/pandas-docs/stable/user_guide/indexing.html#returning-a-view-versus-a-copy\n",
      "  \n",
      "C:\\Users\\yifan\\AppData\\Roaming\\Python\\Python37\\site-packages\\ipykernel_launcher.py:3: SettingWithCopyWarning: \n",
      "A value is trying to be set on a copy of a slice from a DataFrame.\n",
      "Try using .loc[row_indexer,col_indexer] = value instead\n",
      "\n",
      "See the caveats in the documentation: https://pandas.pydata.org/pandas-docs/stable/user_guide/indexing.html#returning-a-view-versus-a-copy\n",
      "  This is separate from the ipykernel package so we can avoid doing imports until\n"
     ]
    }
   ],
   "source": [
    "x['Race_random']=countmap(x['Race_random'])\n",
    "x['Marital_Status_random']=countmap(x['Marital_Status_random'])\n",
    "x['Religion_random']=countmap(x['Religion_random'])"
   ]
  },
  {
   "cell_type": "code",
   "execution_count": 43,
   "metadata": {},
   "outputs": [],
   "source": [
    "def preprocess1(data,mode):\n",
    "    d=np.array(data)\n",
    "    p=[]\n",
    "    for i in d:\n",
    "        if i=='N' or i=='U':\n",
    "            p.append(33)#mode\n",
    "        else:\n",
    "            p.append(i)\n",
    "    completedata=pd.DataFrame(p)\n",
    "    return completedata"
   ]
  },
  {
   "cell_type": "code",
   "execution_count": 44,
   "metadata": {},
   "outputs": [
    {
     "name": "stderr",
     "output_type": "stream",
     "text": [
      "C:\\Users\\yifan\\AppData\\Roaming\\Python\\Python37\\site-packages\\ipykernel_launcher.py:3: SettingWithCopyWarning: \n",
      "A value is trying to be set on a copy of a slice from a DataFrame.\n",
      "Try using .loc[row_indexer,col_indexer] = value instead\n",
      "\n",
      "See the caveats in the documentation: https://pandas.pydata.org/pandas-docs/stable/user_guide/indexing.html#returning-a-view-versus-a-copy\n",
      "  This is separate from the ipykernel package so we can avoid doing imports until\n"
     ]
    }
   ],
   "source": [
    "mode=x['Ethnic_Group_random'].mode()\n",
    "m=preprocess1(x['Ethnic_Group_random'],mode)\n",
    "x['Ethnic_Group_random']=m"
   ]
  },
  {
   "cell_type": "code",
   "execution_count": 47,
   "metadata": {},
   "outputs": [
    {
     "name": "stderr",
     "output_type": "stream",
     "text": [
      "C:\\Users\\yifan\\AppData\\Roaming\\Python\\Python37\\site-packages\\ipykernel_launcher.py:2: SettingWithCopyWarning: \n",
      "A value is trying to be set on a copy of a slice from a DataFrame.\n",
      "Try using .loc[row_indexer,col_indexer] = value instead\n",
      "\n",
      "See the caveats in the documentation: https://pandas.pydata.org/pandas-docs/stable/user_guide/indexing.html#returning-a-view-versus-a-copy\n",
      "  \n",
      "C:\\Users\\yifan\\AppData\\Roaming\\Python\\Python37\\site-packages\\ipykernel_launcher.py:3: SettingWithCopyWarning: \n",
      "A value is trying to be set on a copy of a slice from a DataFrame.\n",
      "Try using .loc[row_indexer,col_indexer] = value instead\n",
      "\n",
      "See the caveats in the documentation: https://pandas.pydata.org/pandas-docs/stable/user_guide/indexing.html#returning-a-view-versus-a-copy\n",
      "  This is separate from the ipykernel package so we can avoid doing imports until\n"
     ]
    }
   ],
   "source": [
    "datagender=pd.get_dummies(merge2table['Gender'])\n",
    "x['Female']=datagender['F']\n",
    "x['Male']=datagender['M']"
   ]
  },
  {
   "cell_type": "code",
   "execution_count": 48,
   "metadata": {},
   "outputs": [
    {
     "name": "stderr",
     "output_type": "stream",
     "text": [
      "C:\\Users\\yifan\\AppData\\Roaming\\Python\\Python37\\site-packages\\ipykernel_launcher.py:18: SettingWithCopyWarning: \n",
      "A value is trying to be set on a copy of a slice from a DataFrame.\n",
      "Try using .loc[row_indexer,col_indexer] = value instead\n",
      "\n",
      "See the caveats in the documentation: https://pandas.pydata.org/pandas-docs/stable/user_guide/indexing.html#returning-a-view-versus-a-copy\n"
     ]
    }
   ],
   "source": [
    "sumvalue=0\n",
    "countvalue=0\n",
    "data=x['Lab_Result']\n",
    "v=[]\n",
    "for i in range(len(data)):\n",
    "    try:\n",
    "        for j in data[i]:\n",
    "            m=float(j)\n",
    "            sumvalue+=m\n",
    "            countvalue+=1\n",
    "            mean=sumvalue/countvalue\n",
    "        v.append(round(mean,2))\n",
    "        sumvalue=0\n",
    "        countvalue=0        \n",
    "    except:\n",
    "        v.append(10000)\n",
    "value1=pd.DataFrame(v)\n",
    "x['Lab_Result']=value1\n",
    "x=x.drop(x[x.Lab_Result==10000].index)"
   ]
  },
  {
   "cell_type": "code",
   "execution_count": 50,
   "metadata": {},
   "outputs": [],
   "source": [
    "y=x['label']\n",
    "x=x.drop(['Gender','label'],axis=1)"
   ]
  },
  {
   "cell_type": "code",
   "execution_count": 53,
   "metadata": {},
   "outputs": [],
   "source": [
    "from sklearn.model_selection import train_test_split\n",
    "from sklearn.tree import DecisionTreeClassifier\n",
    "from sklearn import metrics\n",
    "x_train,x_test,y_train,y_test=train_test_split(x,y,test_size=0.3,random_state=123)"
   ]
  },
  {
   "cell_type": "code",
   "execution_count": 54,
   "metadata": {},
   "outputs": [
    {
     "name": "stdout",
     "output_type": "stream",
     "text": [
      "              precision    recall  f1-score   support\n",
      "\n",
      "           0       0.84      0.84      0.84     39872\n",
      "           1       0.86      0.86      0.86     46832\n",
      "\n",
      "    accuracy                           0.85     86704\n",
      "   macro avg       0.85      0.85      0.85     86704\n",
      "weighted avg       0.85      0.85      0.85     86704\n",
      "\n",
      "              precision    recall  f1-score   support\n",
      "\n",
      "           0       0.79      0.80      0.79     16953\n",
      "           1       0.83      0.82      0.82     20207\n",
      "\n",
      "    accuracy                           0.81     37160\n",
      "   macro avg       0.81      0.81      0.81     37160\n",
      "weighted avg       0.81      0.81      0.81     37160\n",
      "\n"
     ]
    }
   ],
   "source": [
    "dt=DecisionTreeClassifier(random_state=123)\n",
    "dt.fit(x_train,y_train)\n",
    "dt_model=dt.predict(X=x_train)\n",
    "dt_predicted=dt.predict(X=x_test)\n",
    "train_report=metrics.classification_report(y_train,dt_model)\n",
    "print(train_report)\n",
    "test_report=metrics.classification_report(y_test,dt_predicted)\n",
    "print(test_report)"
   ]
  },
  {
   "cell_type": "markdown",
   "metadata": {},
   "source": [
    "# Step 5"
   ]
  },
  {
   "cell_type": "code",
   "execution_count": 55,
   "metadata": {},
   "outputs": [
    {
     "data": {
      "text/plain": [
       "array([[13513,  3440],\n",
       "       [ 3669, 16538]], dtype=int64)"
      ]
     },
     "execution_count": 55,
     "metadata": {},
     "output_type": "execute_result"
    }
   ],
   "source": [
    "from sklearn.metrics import confusion_matrix\n",
    "cm=confusion_matrix(y_test,dt_predicted)\n",
    "cm"
   ]
  },
  {
   "cell_type": "code",
   "execution_count": 56,
   "metadata": {},
   "outputs": [
    {
     "data": {
      "text/plain": [
       "<matplotlib.axes._subplots.AxesSubplot at 0x1e585570988>"
      ]
     },
     "execution_count": 56,
     "metadata": {},
     "output_type": "execute_result"
    },
    {
     "data": {
      "image/png": "[encoded data removed]",
      "text/plain": [
       "<Figure size 432x288 with 2 Axes>"
      ]
     },
     "metadata": {
      "needs_background": "light"
     },
     "output_type": "display_data"
    }
   ],
   "source": [
    "sns.heatmap(cm,annot=True)"
   ]
  },
  {
   "cell_type": "code",
   "execution_count": 57,
   "metadata": {},
   "outputs": [],
   "source": [
    "from sklearn.metrics import roc_curve, auc\n",
    "def ROC_plot(Classifier, x, y):\n",
    "    plt.style.use('ggplot')\n",
    "    %matplotlib inline\n",
    "    \n",
    "    classifier = Classifier\n",
    "    y_predict_probabilities = classifier.predict_proba(x)\n",
    "    y_score = y_predict_probabilities[:, 1]\n",
    "\n",
    "    fpr, tpr, _ = roc_curve(y, y_score)\n",
    "    roc_auc = auc(fpr, tpr)\n",
    "\n",
    "    plt.figure()\n",
    "    plt.plot(fpr, tpr, color='darkorange',\n",
    "             lw=2, label='ROC curve (area = %0.4f)' % roc_auc)\n",
    "    plt.plot([0, 1], [0, 1], color='navy', lw=2, linestyle='--')\n",
    "    plt.xlim([0.0, 1.0])\n",
    "    plt.ylim([0.0, 1.05])\n",
    "    plt.xlabel('False Positive Rate')\n",
    "    plt.ylabel('True Positive Rate')\n",
    "    plt.title('ROC Curve')\n",
    "    plt.legend(loc=\"lower right\")\n",
    "    plt.show()"
   ]
  },
  {
   "cell_type": "code",
   "execution_count": 58,
   "metadata": {},
   "outputs": [],
   "source": [
    "def performance_tabel(model,sample,cm):\n",
    "    print('{:<112}'.format('Model:'+model))\n",
    "    print('Total_samples:',sample)\n",
    "    \n",
    "    TP = cm[1][1]\n",
    "    TN = cm[0][0]\n",
    "    FP = cm[0][1]\n",
    "    FN = cm[1][0]\n",
    "   #print('True Positives:', TP)\n",
    "   #print('True Negatives:', TN)\n",
    "   #print('False Positives:', FP)\n",
    "   #print('False Negatives:', FN)\n",
    "\n",
    "    # calculate accuracy\n",
    "    conf_accuracy = (TP+TN) / (TP + TN + FP + FN)\n",
    "    # calculate recall\n",
    "    conf_recall = TP / (TP + FN)\n",
    "    # calculate precision\n",
    "    conf_precision = TN / (TN + FP)\n",
    "    # calculate f_1 score\n",
    "    conf_f1 = 2 * ((conf_precision * conf_recall) / (conf_precision + conf_recall))\n",
    "    # calculate the sensitivity\n",
    "    conf_sensitivity = TP / (TP + FN)\n",
    "    # calculate the specificity\n",
    "    conf_specificity = TN / (TN + FP)\n",
    "    \n",
    "    print('{}'.format('-'*55))\n",
    "    print('Accuracy:',round(conf_accuracy,5))\n",
    "    print('Recall:',round(conf_recall,5)) \n",
    "    print('Sensitivity:',round(conf_sensitivity,5))\n",
    "    print('pecificity:',round(conf_specificity,5)) \n",
    "    print('Precision:',round(conf_precision,5))\n",
    "    print('f_1 Score:', round(conf_f1,5))\n",
    "    \n",
    "    print('{}'.format('-'*55))\n",
    "    print('{:<112}'.format('ROC_curve:'))\n",
    "    print(ROC_plot(dt, x_test, y_test))"
   ]
  },
  {
   "cell_type": "code",
   "execution_count": 59,
   "metadata": {},
   "outputs": [
    {
     "name": "stdout",
     "output_type": "stream",
     "text": [
      "Model:Decision Tree                                                                                             \n",
      "Total_samples: 123864\n",
      "-------------------------------------------------------\n",
      "Accuracy: 0.80869\n",
      "Recall: 0.81843\n",
      "Sensitivity: 0.81843\n",
      "pecificity: 0.79709\n",
      "Precision: 0.79709\n",
      "f_1 Score: 0.80762\n",
      "-------------------------------------------------------\n",
      "ROC_curve:                                                                                                      \n"
     ]
    },
    {
     "data": {
      "image/png": "[encoded data removed]",
      "text/plain": [
       "<Figure size 432x288 with 1 Axes>"
      ]
     },
     "metadata": {
      "needs_background": "light"
     },
     "output_type": "display_data"
    },
    {
     "name": "stdout",
     "output_type": "stream",
     "text": [
      "None\n"
     ]
    }
   ],
   "source": [
    "performance_tabel('Decision Tree',len(x),cm)"
   ]
  },
  {
   "cell_type": "code",
   "execution_count": null,
   "metadata": {},
   "outputs": [],
   "source": []
  }
 ],
 "metadata": {
  "kernelspec": {
   "display_name": "Python 3",
   "language": "python",
   "name": "python3"
  },
  "language_info": {
   "codemirror_mode": {
    "name": "ipython",
    "version": 3
   },
   "file_extension": ".py",
   "mimetype": "text/x-python",
   "name": "python",
   "nbconvert_exporter": "python",
   "pygments_lexer": "ipython3",
   "version": "3.7.6"
  }
 },
 "nbformat": 4,
 "nbformat_minor": 4
}
